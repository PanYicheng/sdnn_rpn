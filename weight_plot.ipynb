{
 "cells": [
  {
   "cell_type": "code",
   "execution_count": 18,
   "metadata": {},
   "outputs": [],
   "source": [
    "import numpy as np\n",
    "import matplotlib.pyplot as plt"
   ]
  },
  {
   "cell_type": "code",
   "execution_count": 19,
   "metadata": {},
   "outputs": [
    {
     "name": "stdout",
     "output_type": "stream",
     "text": [
      "\u001b[0m\u001b[01;32mClassifier.py\u001b[0m*  cuda_utils.pyc       \u001b[01;32mmain.py\u001b[0m*       \u001b[01;32mSDNN_cuda.py\u001b[0m*\r\n",
      "Classifier.pyc  \u001b[01;32mDog_analysis.ipynb\u001b[0m*  \u001b[01;34m__pycache__\u001b[0m/   SDNN_cuda.pyc\r\n",
      "\u001b[01;32mcpu_utils.py\u001b[0m*   \u001b[01;32mDoG_filt_cuda.py\u001b[0m*    \u001b[01;34mresults\u001b[0m/       weight_plot.ipynb\r\n",
      "cpu_utils.pyc   DoG_filt_cuda.pyc    \u001b[01;34mresults_fix1\u001b[0m/\r\n",
      "\u001b[01;32mcuda_utils.py\u001b[0m*  \u001b[01;32mmain_fix1.py\u001b[0m*        \u001b[01;34mrpn_keras\u001b[0m/\r\n"
     ]
    }
   ],
   "source": [
    "ls"
   ]
  },
  {
   "cell_type": "code",
   "execution_count": 20,
   "metadata": {
    "scrolled": true
   },
   "outputs": [
    {
     "name": "stdout",
     "output_type": "stream",
     "text": [
      "(5, 5, 1, 4)\n"
     ]
    }
   ],
   "source": [
    "w_0 = np.load('results/weight_0.npy')\n",
    "print(w_0.shape)"
   ]
  },
  {
   "cell_type": "code",
   "execution_count": 15,
   "metadata": {},
   "outputs": [
    {
     "data": {
      "image/png": "[encoded data removed]",
      "text/plain": [
       "<Figure size 288x576 with 4 Axes>"
      ]
     },
     "metadata": {},
     "output_type": "display_data"
    }
   ],
   "source": [
    "plt.figure(figsize=(4,8))\n",
    "for i in range(4):\n",
    "    plt.subplot(1,4, i+1)\n",
    "    plt.imshow(np.squeeze(w_0[:,:,:,i]))\n",
    "plt.show()"
   ]
  },
  {
   "cell_type": "code",
   "execution_count": 21,
   "metadata": {},
   "outputs": [
    {
     "data": {
      "image/png": "[encoded data removed]",
      "text/plain": [
       "<Figure size 288x576 with 4 Axes>"
      ]
     },
     "metadata": {},
     "output_type": "display_data"
    }
   ],
   "source": [
    "plt.figure(figsize=(4,8))\n",
    "for i in range(4):\n",
    "    plt.subplot(1,4, i+1)\n",
    "    plt.imshow(np.squeeze(w_0[:,:,:,i]))\n",
    "plt.show()"
   ]
  }
 ],
 "metadata": {
  "kernelspec": {
   "display_name": "py3_sys",
   "language": "python",
   "name": "py3_sys"
  },
  "language_info": {
   "codemirror_mode": {
    "name": "ipython",
    "version": 3
   },
   "file_extension": ".py",
   "mimetype": "text/x-python",
   "name": "python",
   "nbconvert_exporter": "python",
   "pygments_lexer": "ipython3",
   "version": "3.5.2"
  }
 },
 "nbformat": 4,
 "nbformat_minor": 2
}
