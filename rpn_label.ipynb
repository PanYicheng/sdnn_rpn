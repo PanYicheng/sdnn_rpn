{
 "cells": [
  {
   "cell_type": "code",
   "execution_count": 20,
   "metadata": {},
   "outputs": [
    {
     "name": "stderr",
     "output_type": "stream",
     "text": [
      "/home/pyc/tfenv/lib/python3.5/importlib/_bootstrap.py:222: RuntimeWarning: numpy.dtype size changed, may indicate binary incompatibility. Expected 96, got 88\n",
      "  return f(*args, **kwds)\n",
      "Using TensorFlow backend.\n",
      "/home/pyc/tfenv/lib/python3.5/importlib/_bootstrap.py:222: RuntimeWarning: numpy.dtype size changed, may indicate binary incompatibility. Expected 96, got 88\n",
      "  return f(*args, **kwds)\n",
      "/home/pyc/tfenv/lib/python3.5/importlib/_bootstrap.py:222: RuntimeWarning: numpy.dtype size changed, may indicate binary incompatibility. Expected 96, got 88\n",
      "  return f(*args, **kwds)\n"
     ]
    }
   ],
   "source": [
    "import numpy as np\n",
    "import matplotlib.pyplot as plt\n",
    "from config import Config"
   ]
  },
  {
   "cell_type": "code",
   "execution_count": 4,
   "metadata": {},
   "outputs": [
    {
     "name": "stdout",
     "output_type": "stream",
     "text": [
      "\u001b[0m\u001b[01;32mClassifier.py\u001b[0m*      \u001b[01;32mDog_analysis.ipynb\u001b[0m*  \u001b[01;34m__pycache__\u001b[0m/        \u001b[01;32mSDNN_cuda.py\u001b[0m*\r\n",
      "config.py           \u001b[01;32mDoG_filt_cuda.py\u001b[0m*    \u001b[01;34mrpn_keras\u001b[0m/          weight_plot.ipynb\r\n",
      "\u001b[01;32mcpu_utils.py\u001b[0m*       label_name.txt       rpn_label.ipynb     y_rpn_cls.npy\r\n",
      "\u001b[01;32mcuda_utils.py\u001b[0m*      \u001b[01;32mmain_fix1.py\u001b[0m*        rpn.py              y_rpn_regr.npy\r\n",
      "data_generators.py  \u001b[01;32mmain.py\u001b[0m*             rpn_train_label.py\r\n"
     ]
    }
   ],
   "source": [
    "ls"
   ]
  },
  {
   "cell_type": "code",
   "execution_count": 5,
   "metadata": {},
   "outputs": [
    {
     "name": "stdout",
     "output_type": "stream",
     "text": [
      "(289, 18, 10, 16) (289, 72, 10, 16)\n"
     ]
    }
   ],
   "source": [
    "y_rpn_cls = np.load('y_rpn_cls.npy')\n",
    "y_rpn_regr = np.load('y_rpn_regr.npy')\n",
    "print(y_rpn_cls.shape, y_rpn_regr.shape)"
   ]
  },
  {
   "cell_type": "code",
   "execution_count": 25,
   "metadata": {},
   "outputs": [],
   "source": [
    "index = 0"
   ]
  },
  {
   "cell_type": "code",
   "execution_count": 26,
   "metadata": {},
   "outputs": [],
   "source": [
    "cls = y_rpn_cls[index]\n",
    "regr = y_rpn_regr[index]\n",
    "C = Config()"
   ]
  },
  {
   "cell_type": "code",
   "execution_count": 23,
   "metadata": {},
   "outputs": [
    {
     "name": "stdout",
     "output_type": "stream",
     "text": [
      "(48, 96), Anchor [90,181]\n",
      "(64, 64), Anchor [128,128]\n",
      "(64, 80), Anchor [128,128]\n",
      "(64, 96), Anchor [128,128]\n",
      "(64, 96), Anchor [90,181]\n",
      "(64, 160), Anchor [128,128]\n",
      "(64, 176), Anchor [128,128]\n",
      "(80, 64), Anchor [128,128]\n",
      "(80, 80), Anchor [128,128]\n",
      "(80, 96), Anchor [128,128]\n",
      "(80, 96), Anchor [90,181]\n",
      "(80, 112), Anchor [128,128]\n",
      "(96, 96), Anchor [90,181]\n",
      "(96, 112), Anchor [90,181]\n"
     ]
    }
   ],
   "source": [
    "for x in range(10):\n",
    "    for y in range(16):\n",
    "        for k in range(9):\n",
    "            if cls[2*k,x,y] == 1:\n",
    "                print('(%d, %d), Anchor [%d,%d]' % \n",
    "                      (16*x, 16*y, C.anchor_box_ratios[k%3][0] * C.anchor_box_scales[k//3],\n",
    "                                   C.anchor_box_ratios[k%3][1] * C.anchor_box_scales[k//3]))"
   ]
  },
  {
   "cell_type": "code",
   "execution_count": 10,
   "metadata": {},
   "outputs": [],
   "source": [
    "with open('label_name.txt', 'rt') as f:\n",
    "    if 'label_names' not in dir():\n",
    "        label_names = f.readlines()\n",
    "    else:\n",
    "        pass"
   ]
  },
  {
   "cell_type": "code",
   "execution_count": 24,
   "metadata": {},
   "outputs": [
    {
     "data": {
      "text/plain": [
       "'n02691156_10872.jpg'"
      ]
     },
     "execution_count": 24,
     "metadata": {},
     "output_type": "execute_result"
    }
   ],
   "source": [
    "img_name = label_names[0].rstrip('\\n')\n",
    "img_name"
   ]
  },
  {
   "cell_type": "code",
   "execution_count": null,
   "metadata": {},
   "outputs": [],
   "source": []
  }
 ],
 "metadata": {
  "kernelspec": {
   "display_name": "tfenv",
   "language": "python",
   "name": "tfenv"
  },
  "language_info": {
   "codemirror_mode": {
    "name": "ipython",
    "version": 3
   },
   "file_extension": ".py",
   "mimetype": "text/x-python",
   "name": "python",
   "nbconvert_exporter": "python",
   "pygments_lexer": "ipython3",
   "version": "3.5.2"
  }
 },
 "nbformat": 4,
 "nbformat_minor": 2
}
