{
 "cells": [
  {
   "cell_type": "code",
   "execution_count": 14,
   "metadata": {},
   "outputs": [],
   "source": [
    "import tensorflow as tf\n",
    "from keras import Sequential, optimizers\n",
    "from keras.layers import Dense,Conv2D,Flatten\n",
    "import numpy as np"
   ]
  },
  {
   "cell_type": "code",
   "execution_count": 6,
   "metadata": {},
   "outputs": [],
   "source": [
    "k = 9"
   ]
  },
  {
   "cell_type": "markdown",
   "metadata": {},
   "source": [
    "# Model Setup"
   ]
  },
  {
   "cell_type": "code",
   "execution_count": 26,
   "metadata": {},
   "outputs": [],
   "source": [
    "model = Sequential()\n",
    "model.add(Conv2D(256, (3,3), strides=1, padding='same', input_shape=(16,16,256)))\n",
    "model.add(Flatten())\n",
    "model.add(Dense(6*k))\n",
    "# For a mean squared error regression problem\n",
    "sgd = optimizers.SGD(lr=0.01, decay=1e-6, momentum=0.9, nesterov=True)\n",
    "model.compile(optimizer=sgd,\n",
    "              loss='mae',\n",
    "              metrics=['mae'])"
   ]
  },
  {
   "cell_type": "code",
   "execution_count": 27,
   "metadata": {},
   "outputs": [
    {
     "name": "stdout",
     "output_type": "stream",
     "text": [
      "(None, 16, 16, 256)\n",
      "(None, 54)\n"
     ]
    }
   ],
   "source": [
    "print(model.input_shape)\n",
    "print(model.output_shape)"
   ]
  },
  {
   "cell_type": "code",
   "execution_count": 28,
   "metadata": {},
   "outputs": [],
   "source": [
    "np.append"
   ]
  },
  {
   "cell_type": "markdown",
   "metadata": {},
   "source": [
    "# here left for data input"
   ]
  },
  {
   "cell_type": "code",
   "execution_count": 29,
   "metadata": {},
   "outputs": [],
   "source": [
    "x_train = np.random.random((1000,16,16,256))\n",
    "y_train = np.append(np.random.random((1000,9)),\n",
    "                    np.random.randint(0,1,size=(1000,9)),\n",
    "                    axis=1)\n",
    "y_train = np.append(y_train, np.random.random((1000, 36)), axis=1)"
   ]
  },
  {
   "cell_type": "code",
   "execution_count": 30,
   "metadata": {},
   "outputs": [
    {
     "name": "stdout",
     "output_type": "stream",
     "text": [
      "(1000, 16, 16, 256)\n",
      "(1000, 54)\n"
     ]
    }
   ],
   "source": [
    "print(x_train.shape)\n",
    "print(y_train.shape)"
   ]
  },
  {
   "cell_type": "code",
   "execution_count": 31,
   "metadata": {
    "scrolled": true
   },
   "outputs": [
    {
     "name": "stdout",
     "output_type": "stream",
     "text": [
      "Epoch 1/10\n",
      "1000/1000 [==============================] - 1s 750us/step - loss: 0.9373 - mean_absolute_error: 0.9373\n",
      "Epoch 2/10\n",
      "1000/1000 [==============================] - 1s 592us/step - loss: 0.4720 - mean_absolute_error: 0.4720\n",
      "Epoch 3/10\n",
      "1000/1000 [==============================] - 1s 582us/step - loss: 0.3492 - mean_absolute_error: 0.3492\n",
      "Epoch 4/10\n",
      "1000/1000 [==============================] - 1s 602us/step - loss: 0.2924 - mean_absolute_error: 0.2924\n",
      "Epoch 5/10\n",
      "1000/1000 [==============================] - 1s 578us/step - loss: 0.2615 - mean_absolute_error: 0.2615\n",
      "Epoch 6/10\n",
      "1000/1000 [==============================] - 1s 555us/step - loss: 0.2093 - mean_absolute_error: 0.2093\n",
      "Epoch 7/10\n",
      "1000/1000 [==============================] - 1s 601us/step - loss: 0.1770 - mean_absolute_error: 0.1770\n",
      "Epoch 8/10\n",
      "1000/1000 [==============================] - 1s 602us/step - loss: 0.1450 - mean_absolute_error: 0.1450\n",
      "Epoch 9/10\n",
      "1000/1000 [==============================] - 1s 595us/step - loss: 0.1261 - mean_absolute_error: 0.1261\n",
      "Epoch 10/10\n",
      "1000/1000 [==============================] - 1s 579us/step - loss: 0.1137 - mean_absolute_error: 0.1137\n"
     ]
    },
    {
     "data": {
      "text/plain": [
       "<keras.callbacks.History at 0x7f9fc806fa20>"
      ]
     },
     "execution_count": 31,
     "metadata": {},
     "output_type": "execute_result"
    }
   ],
   "source": [
    "model.fit(x_train, y_train, batch_size=100, epochs=10)"
   ]
  },
  {
   "cell_type": "code",
   "execution_count": 32,
   "metadata": {},
   "outputs": [],
   "source": [
    "model.save(\"model.h5\")"
   ]
  },
  {
   "cell_type": "code",
   "execution_count": null,
   "metadata": {},
   "outputs": [],
   "source": []
  }
 ],
 "metadata": {
  "kernelspec": {
   "display_name": "kerasenv",
   "language": "python",
   "name": "kerasenv"
  },
  "language_info": {
   "codemirror_mode": {
    "name": "ipython",
    "version": 3
   },
   "file_extension": ".py",
   "mimetype": "text/x-python",
   "name": "python",
   "nbconvert_exporter": "python",
   "pygments_lexer": "ipython3",
   "version": "3.5.2"
  }
 },
 "nbformat": 4,
 "nbformat_minor": 2
}
